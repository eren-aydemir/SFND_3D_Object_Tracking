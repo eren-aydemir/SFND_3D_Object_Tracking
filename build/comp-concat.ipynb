{
 "cells": [
  {
   "cell_type": "code",
   "execution_count": 1,
   "metadata": {},
   "outputs": [],
   "source": [
    "import pandas as pd \n",
    "import glob"
   ]
  },
  {
   "cell_type": "code",
   "execution_count": 2,
   "metadata": {},
   "outputs": [
    {
     "name": "stdout",
     "output_type": "stream",
     "text": [
      "/Users/eren/Desktop/SFND/Camera/SFND_3D_Object_Tracking/build/Results/comp-FAST-BRISK-MAT_BF-SEL_NN-.csv\n",
      "116\n"
     ]
    }
   ],
   "source": [
    "csv_files = glob.glob(\"/Users/eren/Desktop/SFND/Camera/SFND_3D_Object_Tracking/build/Results/*.csv\")\n",
    "print(csv_files[0])\n",
    "print(len(csv_files))"
   ]
  },
  {
   "cell_type": "code",
   "execution_count": 4,
   "metadata": {},
   "outputs": [
    {
     "data": {
      "text/html": [
       "<div>\n",
       "<style scoped>\n",
       "    .dataframe tbody tr th:only-of-type {\n",
       "        vertical-align: middle;\n",
       "    }\n",
       "\n",
       "    .dataframe tbody tr th {\n",
       "        vertical-align: top;\n",
       "    }\n",
       "\n",
       "    .dataframe thead th {\n",
       "        text-align: right;\n",
       "    }\n",
       "</style>\n",
       "<table border=\"1\" class=\"dataframe\">\n",
       "  <thead>\n",
       "    <tr style=\"text-align: right;\">\n",
       "      <th></th>\n",
       "      <th>Detector Type</th>\n",
       "      <th>Descriptor Type</th>\n",
       "      <th>Matcher Type</th>\n",
       "      <th>Selector Type</th>\n",
       "      <th>ttcLidar</th>\n",
       "      <th>ttcCamera</th>\n",
       "    </tr>\n",
       "  </thead>\n",
       "  <tbody>\n",
       "    <tr>\n",
       "      <th>0</th>\n",
       "      <td>FAST</td>\n",
       "      <td>BRISK</td>\n",
       "      <td>MAT_BF</td>\n",
       "      <td>SEL_NN</td>\n",
       "      <td>12.6142</td>\n",
       "      <td>-625.310000</td>\n",
       "    </tr>\n",
       "    <tr>\n",
       "      <th>1</th>\n",
       "      <td>FAST</td>\n",
       "      <td>BRISK</td>\n",
       "      <td>MAT_BF</td>\n",
       "      <td>SEL_NN</td>\n",
       "      <td>14.0910</td>\n",
       "      <td>-0.686391</td>\n",
       "    </tr>\n",
       "    <tr>\n",
       "      <th>2</th>\n",
       "      <td>FAST</td>\n",
       "      <td>BRISK</td>\n",
       "      <td>MAT_BF</td>\n",
       "      <td>SEL_NN</td>\n",
       "      <td>16.6894</td>\n",
       "      <td>-14.371700</td>\n",
       "    </tr>\n",
       "    <tr>\n",
       "      <th>3</th>\n",
       "      <td>FAST</td>\n",
       "      <td>BRISK</td>\n",
       "      <td>MAT_BF</td>\n",
       "      <td>SEL_NN</td>\n",
       "      <td>15.7465</td>\n",
       "      <td>-36.442400</td>\n",
       "    </tr>\n",
       "    <tr>\n",
       "      <th>4</th>\n",
       "      <td>FAST</td>\n",
       "      <td>BRISK</td>\n",
       "      <td>MAT_BF</td>\n",
       "      <td>SEL_NN</td>\n",
       "      <td>12.7835</td>\n",
       "      <td>-0.536231</td>\n",
       "    </tr>\n",
       "  </tbody>\n",
       "</table>\n",
       "</div>"
      ],
      "text/plain": [
       "  Detector Type Descriptor Type Matcher Type Selector Type  ttcLidar  \\\n",
       "0          FAST           BRISK       MAT_BF        SEL_NN   12.6142   \n",
       "1          FAST           BRISK       MAT_BF        SEL_NN   14.0910   \n",
       "2          FAST           BRISK       MAT_BF        SEL_NN   16.6894   \n",
       "3          FAST           BRISK       MAT_BF        SEL_NN   15.7465   \n",
       "4          FAST           BRISK       MAT_BF        SEL_NN   12.7835   \n",
       "\n",
       "    ttcCamera  \n",
       "0 -625.310000  \n",
       "1   -0.686391  \n",
       "2  -14.371700  \n",
       "3  -36.442400  \n",
       "4   -0.536231  "
      ]
     },
     "execution_count": 4,
     "metadata": {},
     "output_type": "execute_result"
    }
   ],
   "source": [
    "df_all = pd.read_csv(csv_files[0], skiprows=2, names=['Detector Type', 'Descriptor Type', 'Matcher Type', 'Selector Type', 'ttcLidar', 'ttcCamera']) \n",
    "\n",
    "for i in range(1, len(csv_files)):\n",
    "    df = pd.read_csv(csv_files[i], skiprows=2, names=['Detector Type', 'Descriptor Type', 'Matcher Type', 'Selector Type', 'ttcLidar', 'ttcCamera']) \n",
    "    df_all = pd.concat([df_all, df])\n",
    "\n",
    "df_all.head()"
   ]
  },
  {
   "cell_type": "code",
   "execution_count": 5,
   "metadata": {},
   "outputs": [
    {
     "data": {
      "text/html": [
       "<div>\n",
       "<style scoped>\n",
       "    .dataframe tbody tr th:only-of-type {\n",
       "        vertical-align: middle;\n",
       "    }\n",
       "\n",
       "    .dataframe tbody tr th {\n",
       "        vertical-align: top;\n",
       "    }\n",
       "\n",
       "    .dataframe thead th {\n",
       "        text-align: right;\n",
       "    }\n",
       "</style>\n",
       "<table border=\"1\" class=\"dataframe\">\n",
       "  <thead>\n",
       "    <tr style=\"text-align: right;\">\n",
       "      <th></th>\n",
       "      <th>Detector Type</th>\n",
       "      <th>Descriptor Type</th>\n",
       "      <th>Matcher Type</th>\n",
       "      <th>Selector Type</th>\n",
       "      <th>ttcLidar</th>\n",
       "      <th>ttcCamera</th>\n",
       "    </tr>\n",
       "  </thead>\n",
       "  <tbody>\n",
       "    <tr>\n",
       "      <th>0</th>\n",
       "      <td>FAST</td>\n",
       "      <td>BRISK</td>\n",
       "      <td>MAT_BF</td>\n",
       "      <td>SEL_NN</td>\n",
       "      <td>12.6142</td>\n",
       "      <td>-625.310000</td>\n",
       "    </tr>\n",
       "    <tr>\n",
       "      <th>1</th>\n",
       "      <td>FAST</td>\n",
       "      <td>BRISK</td>\n",
       "      <td>MAT_BF</td>\n",
       "      <td>SEL_NN</td>\n",
       "      <td>14.0910</td>\n",
       "      <td>-0.686391</td>\n",
       "    </tr>\n",
       "    <tr>\n",
       "      <th>2</th>\n",
       "      <td>FAST</td>\n",
       "      <td>BRISK</td>\n",
       "      <td>MAT_BF</td>\n",
       "      <td>SEL_NN</td>\n",
       "      <td>16.6894</td>\n",
       "      <td>-14.371700</td>\n",
       "    </tr>\n",
       "    <tr>\n",
       "      <th>3</th>\n",
       "      <td>FAST</td>\n",
       "      <td>BRISK</td>\n",
       "      <td>MAT_BF</td>\n",
       "      <td>SEL_NN</td>\n",
       "      <td>15.7465</td>\n",
       "      <td>-36.442400</td>\n",
       "    </tr>\n",
       "    <tr>\n",
       "      <th>4</th>\n",
       "      <td>FAST</td>\n",
       "      <td>BRISK</td>\n",
       "      <td>MAT_BF</td>\n",
       "      <td>SEL_NN</td>\n",
       "      <td>12.7835</td>\n",
       "      <td>-0.536231</td>\n",
       "    </tr>\n",
       "  </tbody>\n",
       "</table>\n",
       "</div>"
      ],
      "text/plain": [
       "  Detector Type Descriptor Type Matcher Type Selector Type  ttcLidar  \\\n",
       "0          FAST           BRISK       MAT_BF        SEL_NN   12.6142   \n",
       "1          FAST           BRISK       MAT_BF        SEL_NN   14.0910   \n",
       "2          FAST           BRISK       MAT_BF        SEL_NN   16.6894   \n",
       "3          FAST           BRISK       MAT_BF        SEL_NN   15.7465   \n",
       "4          FAST           BRISK       MAT_BF        SEL_NN   12.7835   \n",
       "\n",
       "    ttcCamera  \n",
       "0 -625.310000  \n",
       "1   -0.686391  \n",
       "2  -14.371700  \n",
       "3  -36.442400  \n",
       "4   -0.536231  "
      ]
     },
     "execution_count": 5,
     "metadata": {},
     "output_type": "execute_result"
    }
   ],
   "source": [
    "df_all.head()"
   ]
  },
  {
   "cell_type": "code",
   "execution_count": 6,
   "metadata": {},
   "outputs": [],
   "source": [
    "df_all.to_csv('comp_all_v1.csv')"
   ]
  },
  {
   "cell_type": "code",
   "execution_count": null,
   "metadata": {},
   "outputs": [],
   "source": []
  }
 ],
 "metadata": {
  "kernelspec": {
   "display_name": "Python 3",
   "language": "python",
   "name": "python3"
  },
  "language_info": {
   "codemirror_mode": {
    "name": "ipython",
    "version": 3
   },
   "file_extension": ".py",
   "mimetype": "text/x-python",
   "name": "python",
   "nbconvert_exporter": "python",
   "pygments_lexer": "ipython3",
   "version": "3.7.3"
  }
 },
 "nbformat": 4,
 "nbformat_minor": 2
}
